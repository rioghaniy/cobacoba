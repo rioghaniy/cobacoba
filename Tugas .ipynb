{
 "cells": [
  {
   "cell_type": "code",
   "execution_count": 8,
   "metadata": {},
   "outputs": [
    {
     "name": "stdout",
     "output_type": "stream",
     "text": [
      "Mulai\n"
     ]
    }
   ],
   "source": [
    "print(\"Mulai\")"
   ]
  },
  {
   "cell_type": "code",
   "execution_count": 13,
   "metadata": {},
   "outputs": [
    {
     "name": "stdout",
     "output_type": "stream",
     "text": [
      "Aplikasi ojek online\n",
      "Uang\n",
      "Sepedha onthel\n"
     ]
    }
   ],
   "source": [
    "print(\"Aplikasi ojek online\")\n",
    "print(\"Uang\")\n",
    "print(\"Sepedha onthel\")"
   ]
  },
  {
   "cell_type": "code",
   "execution_count": 21,
   "metadata": {},
   "outputs": [
    {
     "name": "stdout",
     "output_type": "stream",
     "text": [
      "Ojol\n",
      "ya\n",
      "Bayar ojol\n"
     ]
    }
   ],
   "source": [
    "#Decision ada ojol\n",
    "\n",
    "print(\"Ojol\")\n",
    "adakah_ojol = input()\n",
    "\n",
    "if(adakah_ojol == \"ya\"):\n",
    "    print(\"Bayar ojol\")\n",
    "elif(adakah_ojol == \"Ya\"):\n",
    "    print(\"Bayar ojol\")\n",
    "elif(adakah_ojol == \"ada\"):\n",
    "    print(\"Bayar ojol\")\n",
    "else:\n",
    "    print(\"Sepedha onthel\")\n",
    "    "
   ]
  },
  {
   "cell_type": "code",
   "execution_count": 22,
   "metadata": {},
   "outputs": [
    {
     "name": "stdout",
     "output_type": "stream",
     "text": [
      "Ojol\n",
      "tidak\n",
      "Sepedha onthel\n"
     ]
    }
   ],
   "source": [
    "#Decision tidak ada ojol\n",
    "\n",
    "print(\"Ojol\")\n",
    "adakah_ojol = input()\n",
    "\n",
    "if(adakah_ojol == \"ya\"):\n",
    "    print(\"Bayar ojol\")\n",
    "elif(adakah_ojol == \"Ya\"):\n",
    "    print(\"Bayar ojol\")\n",
    "else:\n",
    "    print(\"Sepedha onthel\")"
   ]
  },
  {
   "cell_type": "code",
   "execution_count": 17,
   "metadata": {},
   "outputs": [
    {
     "name": "stdout",
     "output_type": "stream",
     "text": [
      "Tempat parkir\n"
     ]
    }
   ],
   "source": [
    "#Lanjutan decision tidak ada ojol\n",
    "\n",
    "print(\"Tempat parkir\")"
   ]
  },
  {
   "cell_type": "code",
   "execution_count": 18,
   "metadata": {},
   "outputs": [
    {
     "name": "stdout",
     "output_type": "stream",
     "text": [
      "Masuk supermarket cari bagian tempat yang menjual baju\n"
     ]
    }
   ],
   "source": [
    "#Lanjutan decision ada dan tidaknya ojol\n",
    "\n",
    "print(\"Masuk supermarket cari bagian tempat yang menjual baju\")"
   ]
  },
  {
   "cell_type": "code",
   "execution_count": 27,
   "metadata": {},
   "outputs": [
    {
     "name": "stdout",
     "output_type": "stream",
     "text": [
      "Baju berwarna hitam ukuran L\n",
      "ada\n",
      "Bayar\n"
     ]
    }
   ],
   "source": [
    "#Decision ada baju berwarna hitam ukuran L\n",
    "\n",
    "print(\"Baju berwarna hitam ukuran L\")\n",
    "adakah_bajunya = input()\n",
    "\n",
    "if(adakah_bajunya == \"ya\"):\n",
    "    print(\"Bayar\")\n",
    "elif(adakah_bajunya == \"Ya\"):\n",
    "    print(\"Bayar\")\n",
    "elif(adakah_bajunya == \"ada\"):\n",
    "    print(\"Bayar\")\n",
    "else:\n",
    "    print(\"Cari baju berwarna merah\")"
   ]
  },
  {
   "cell_type": "code",
   "execution_count": 28,
   "metadata": {},
   "outputs": [
    {
     "name": "stdout",
     "output_type": "stream",
     "text": [
      "Baju berwarna hitam ukuran L\n",
      "tidak\n",
      "Cari baju berwarna merah\n"
     ]
    }
   ],
   "source": [
    "#Decision tidak ada baju berwarna hitam ukuran L\n",
    "\n",
    "print(\"Baju berwarna hitam ukuran L\")\n",
    "adakah_bajunya = input()\n",
    "\n",
    "if(adakah_bajunya == \"ya\"):\n",
    "    print(\"Bayar\")\n",
    "elif(adakah_bajunya == \"Ya\"):\n",
    "    print(\"Bayar\")\n",
    "elif(adakah_bajunya == \"ada\"):\n",
    "    print(\"Bayar\")\n",
    "else:\n",
    "    print(\"Cari baju berwarna merah\")\n"
   ]
  },
  {
   "cell_type": "code",
   "execution_count": 29,
   "metadata": {},
   "outputs": [
    {
     "name": "stdout",
     "output_type": "stream",
     "text": [
      "Bayar\n"
     ]
    }
   ],
   "source": [
    "#lanjutan tidak ada baju berwarna hitam ukuran L\n",
    "\n",
    "print(\"Bayar\")"
   ]
  },
  {
   "cell_type": "code",
   "execution_count": 31,
   "metadata": {},
   "outputs": [
    {
     "name": "stdout",
     "output_type": "stream",
     "text": [
      "Keluar supermarket\n"
     ]
    }
   ],
   "source": [
    "#Lanjutan decision ada dan tidaknya baju berwarna hitam ukuran L\n",
    "\n",
    "print(\"Keluar supermarket\")"
   ]
  },
  {
   "cell_type": "code",
   "execution_count": 32,
   "metadata": {},
   "outputs": [
    {
     "name": "stdout",
     "output_type": "stream",
     "text": [
      "Ojol\n",
      "ada\n",
      "Bayar ojol\n"
     ]
    }
   ],
   "source": [
    "#Decision ada ojol untuk kembali pulang\n",
    "\n",
    "print(\"Ojol\")\n",
    "adakah_ojol_untuk_pulang = input()\n",
    "\n",
    "if(adakah_ojol_untuk_pulang == \"Ya\"):\n",
    "    print(\"Bayar ojol\")\n",
    "elif(adakah_ojol_untuk_pulang == \"ya\"):\n",
    "    print(\"Bayar ojol\")\n",
    "elif(adakah_ojol_untuk_pulang == \"ada\"):\n",
    "    print(\"Bayar ojol\")\n",
    "else:\n",
    "    print(\"Ambil sepeda di tempat parkir\")"
   ]
  },
  {
   "cell_type": "code",
   "execution_count": 33,
   "metadata": {},
   "outputs": [
    {
     "name": "stdout",
     "output_type": "stream",
     "text": [
      "Ojol\n",
      "tidak ada\n",
      "Ambil sepeda di tempat parkir\n"
     ]
    }
   ],
   "source": [
    "#Decision tidak ada ojol untuk kembali pulang\n",
    "\n",
    "print(\"Ojol\")\n",
    "adakah_ojol_untuk_pulang = input()\n",
    "\n",
    "if(adakah_ojol_untuk_pulang == \"Ya\"):\n",
    "    print(\"Bayar ojol\")\n",
    "elif(adakah_ojol_untuk_pulang == \"ya\"):\n",
    "    print(\"Bayar ojol\")\n",
    "elif(adakah_ojol_untuk_pulang == \"ada\"):\n",
    "    print(\"Bayar ojol\")\n",
    "else:\n",
    "    print(\"Ambil sepeda di tempat parkir\")"
   ]
  },
  {
   "cell_type": "code",
   "execution_count": 34,
   "metadata": {},
   "outputs": [
    {
     "name": "stdout",
     "output_type": "stream",
     "text": [
      "Pulang ke rumah\n"
     ]
    }
   ],
   "source": [
    "#Lanjutan decision ada dan tidaknya ojol untuk kembali pulang\n",
    "\n",
    "print(\"Pulang ke rumah\")"
   ]
  },
  {
   "cell_type": "code",
   "execution_count": 36,
   "metadata": {},
   "outputs": [
    {
     "name": "stdout",
     "output_type": "stream",
     "text": [
      "Selesai\n"
     ]
    }
   ],
   "source": [
    "print(\"Selesai\")"
   ]
  },
  {
   "cell_type": "code",
   "execution_count": null,
   "metadata": {},
   "outputs": [],
   "source": []
  }
 ],
 "metadata": {
  "kernelspec": {
   "display_name": "Python 3",
   "language": "python",
   "name": "python3"
  }
 },
 "nbformat": 4,
 "nbformat_minor": 4
}
