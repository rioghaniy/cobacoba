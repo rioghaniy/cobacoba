{
 "cells": [
  {
   "cell_type": "code",
   "execution_count": 1,
   "metadata": {
    "scrolled": true
   },
   "outputs": [
    {
     "name": "stdout",
     "output_type": "stream",
     "text": [
      "Hello World\n"
     ]
    }
   ],
   "source": [
    "print ('Hello World')"
   ]
  },
  {
   "cell_type": "code",
   "execution_count": 2,
   "metadata": {},
   "outputs": [
    {
     "name": "stdout",
     "output_type": "stream",
     "text": [
      "Hai Purwokerto\n",
      "Saya belajar Algoritma Pemrograman\n"
     ]
    }
   ],
   "source": [
    "print (\"Hai Purwokerto\")\n",
    "print ('Saya belajar Algoritma Pemrograman')"
   ]
  },
  {
   "cell_type": "code",
   "execution_count": 3,
   "metadata": {},
   "outputs": [
    {
     "name": "stdout",
     "output_type": "stream",
     "text": [
      "siapkan sedotan\n"
     ]
    }
   ],
   "source": [
    "print (\"siapkan sedotan\")"
   ]
  },
  {
   "cell_type": "code",
   "execution_count": 4,
   "metadata": {},
   "outputs": [
    {
     "name": "stdout",
     "output_type": "stream",
     "text": [
      "tusukan ke botol\n",
      "minum airnya\n"
     ]
    }
   ],
   "source": [
    "print (\"tusukan ke botol\")\n",
    "print (\"minum airnya\")"
   ]
  },
  {
   "cell_type": "markdown",
   "metadata": {},
   "source": [
    "# ini komentar\n"
   ]
  },
  {
   "cell_type": "code",
   "execution_count": 5,
   "metadata": {},
   "outputs": [
    {
     "name": "stdout",
     "output_type": "stream",
     "text": [
      "a\n"
     ]
    }
   ],
   "source": [
    "print ('a')"
   ]
  },
  {
   "cell_type": "code",
   "execution_count": 6,
   "metadata": {},
   "outputs": [
    {
     "name": "stdout",
     "output_type": "stream",
     "text": [
      "ini text biasa\n",
      "27.5\n"
     ]
    }
   ],
   "source": [
    "print ('ini text biasa')\n",
    "print (25 + 10 /4)"
   ]
  },
  {
   "cell_type": "code",
   "execution_count": 7,
   "metadata": {},
   "outputs": [
    {
     "name": "stdout",
     "output_type": "stream",
     "text": [
      "Hasil Penghitungan : 4.0\n"
     ]
    }
   ],
   "source": [
    "print (\"Hasil Penghitungan :\", 2 + 4/2)"
   ]
  },
  {
   "cell_type": "code",
   "execution_count": 8,
   "metadata": {},
   "outputs": [
    {
     "name": "stdout",
     "output_type": "stream",
     "text": [
      "a * b : 21\n",
      "a / b : 2.3333333333333335\n",
      "a + b : 10\n",
      "a - b : 4\n",
      "a & b : 1\n"
     ]
    }
   ],
   "source": [
    "a = 7 \n",
    "b = 3 \n",
    "print (\"a * b :\", a * b)\n",
    "print (\"a / b :\", a / b)\n",
    "print (\"a + b :\", a + b)\n",
    "print (\"a - b :\", a - b)\n",
    "print (\"a & b :\", a % b)"
   ]
  },
  {
   "cell_type": "code",
   "execution_count": 9,
   "metadata": {},
   "outputs": [
    {
     "name": "stdout",
     "output_type": "stream",
     "text": [
      "Apakah a < b :  False\n",
      "Apakah a > b :  True\n",
      "Apakah a <= b :  False\n",
      "Apakah a >= b :  True\n"
     ]
    }
   ],
   "source": [
    "print (\"Apakah a < b : \", a < b)\n",
    "print (\"Apakah a > b : \", a > b)\n",
    "print (\"Apakah a <= b : \", a <= b)\n",
    "print (\"Apakah a >= b : \", a >=b)"
   ]
  },
  {
   "cell_type": "markdown",
   "metadata": {},
   "source": [
    "# Variable dan Multiple Assignment"
   ]
  },
  {
   "cell_type": "code",
   "execution_count": 10,
   "metadata": {},
   "outputs": [
    {
     "data": {
      "text/plain": [
       "'April'"
      ]
     },
     "execution_count": 10,
     "metadata": {},
     "output_type": "execute_result"
    }
   ],
   "source": [
    "nama = 'April'\n",
    "nama "
   ]
  },
  {
   "cell_type": "code",
   "execution_count": 11,
   "metadata": {},
   "outputs": [
    {
     "data": {
      "text/plain": [
       "35"
      ]
     },
     "execution_count": 11,
     "metadata": {},
     "output_type": "execute_result"
    }
   ],
   "source": [
    "umur = 35\n",
    "umur"
   ]
  },
  {
   "cell_type": "code",
   "execution_count": 12,
   "metadata": {},
   "outputs": [
    {
     "name": "stdout",
     "output_type": "stream",
     "text": [
      "Saya sehari-hari ada di Institut Teknologi Telkom Purwokerto\n"
     ]
    }
   ],
   "source": [
    "kalimat = \"Saya sehari-hari ada di Institut Teknologi Telkom Purwokerto\"\n",
    "print (kalimat)"
   ]
  },
  {
   "cell_type": "code",
   "execution_count": 13,
   "metadata": {},
   "outputs": [],
   "source": [
    "mahasiswa = 40\n",
    "dosen = 5\n"
   ]
  },
  {
   "cell_type": "code",
   "execution_count": 14,
   "metadata": {},
   "outputs": [
    {
     "name": "stdout",
     "output_type": "stream",
     "text": [
      "Jumlah Mahasiswa : 40\n"
     ]
    }
   ],
   "source": [
    "print (\"Jumlah Mahasiswa :\", mahasiswa)"
   ]
  },
  {
   "cell_type": "code",
   "execution_count": 15,
   "metadata": {},
   "outputs": [
    {
     "name": "stdout",
     "output_type": "stream",
     "text": [
      "Jumlah Dosen : 5\n"
     ]
    }
   ],
   "source": [
    "print ('Jumlah Dosen :', dosen)"
   ]
  },
  {
   "cell_type": "code",
   "execution_count": 16,
   "metadata": {},
   "outputs": [
    {
     "name": "stdout",
     "output_type": "stream",
     "text": [
      "Ada 40 Mahasiswa dan ada 5 dosen\n"
     ]
    }
   ],
   "source": [
    "print (\"Ada\", mahasiswa, \"Mahasiswa dan ada\", dosen,\"dosen\")"
   ]
  },
  {
   "cell_type": "markdown",
   "metadata": {},
   "source": [
    "# Tugas \n"
   ]
  },
  {
   "cell_type": "code",
   "execution_count": 17,
   "metadata": {},
   "outputs": [
    {
     "name": "stdout",
     "output_type": "stream",
     "text": [
      "mulai\n"
     ]
    }
   ],
   "source": [
    "print(\"mulai\")"
   ]
  },
  {
   "cell_type": "code",
   "execution_count": 18,
   "metadata": {},
   "outputs": [
    {
     "name": "stdout",
     "output_type": "stream",
     "text": [
      "Aplikasi Ojek Online\n",
      "Uang\n",
      "Sepedha onthel\n"
     ]
    }
   ],
   "source": [
    "print(\"Aplikasi Ojek Online\")\n",
    "print(\"Uang\")\n",
    "print(\"Sepedha onthel\")"
   ]
  },
  {
   "cell_type": "code",
   "execution_count": 19,
   "metadata": {},
   "outputs": [
    {
     "name": "stdout",
     "output_type": "stream",
     "text": [
      "Ojol\n"
     ]
    }
   ],
   "source": [
    "print(\"Ojol\")"
   ]
  },
  {
   "cell_type": "code",
   "execution_count": 20,
   "metadata": {},
   "outputs": [
    {
     "name": "stdout",
     "output_type": "stream",
     "text": [
      "Bayar ojol\n"
     ]
    }
   ],
   "source": [
    "# ada ojol\n",
    "\n",
    "print(\"Bayar ojol\")"
   ]
  },
  {
   "cell_type": "code",
   "execution_count": 21,
   "metadata": {},
   "outputs": [
    {
     "name": "stdout",
     "output_type": "stream",
     "text": [
      "Sepeda onthel\n"
     ]
    }
   ],
   "source": [
    "# tidak ada ojoL\n",
    "\n",
    "print(\"Sepeda onthel\")"
   ]
  },
  {
   "cell_type": "code",
   "execution_count": 22,
   "metadata": {},
   "outputs": [
    {
     "name": "stdout",
     "output_type": "stream",
     "text": [
      "Tempat parkir\n"
     ]
    }
   ],
   "source": [
    "#lanjutan tidak ada ojol\n",
    "\n",
    "print(\"Tempat parkir\")"
   ]
  },
  {
   "cell_type": "code",
   "execution_count": 23,
   "metadata": {},
   "outputs": [
    {
     "name": "stdout",
     "output_type": "stream",
     "text": [
      "Masuk supermarket cari tempat yang menjual baju\n"
     ]
    }
   ],
   "source": [
    "#lanjutan ada dan tidaknya ojol\n",
    "\n",
    "print(\"Masuk supermarket cari tempat yang menjual baju\")"
   ]
  },
  {
   "cell_type": "code",
   "execution_count": 24,
   "metadata": {},
   "outputs": [
    {
     "name": "stdout",
     "output_type": "stream",
     "text": [
      "Baju berwarna hitam ukuran L\n"
     ]
    }
   ],
   "source": [
    "print(\"Baju berwarna hitam ukuran L\")"
   ]
  },
  {
   "cell_type": "code",
   "execution_count": 25,
   "metadata": {},
   "outputs": [
    {
     "name": "stdout",
     "output_type": "stream",
     "text": [
      "Baju berwarna merah\n"
     ]
    }
   ],
   "source": [
    "#tidak ada baju berwarna hitam ukuran L\n",
    "\n",
    "print(\"Baju berwarna merah\")"
   ]
  },
  {
   "cell_type": "code",
   "execution_count": 26,
   "metadata": {},
   "outputs": [
    {
     "name": "stdout",
     "output_type": "stream",
     "text": [
      "Bayar\n"
     ]
    }
   ],
   "source": [
    "#lanjutan ada dan tidaknya baju berwarna hitam ukuran L\n",
    "\n",
    "print(\"Bayar\")"
   ]
  },
  {
   "cell_type": "code",
   "execution_count": 27,
   "metadata": {},
   "outputs": [
    {
     "name": "stdout",
     "output_type": "stream",
     "text": [
      "Keluar supermarket\n"
     ]
    }
   ],
   "source": [
    "print(\"Keluar supermarket\")"
   ]
  },
  {
   "cell_type": "code",
   "execution_count": 28,
   "metadata": {},
   "outputs": [
    {
     "name": "stdout",
     "output_type": "stream",
     "text": [
      "Ojol\n"
     ]
    }
   ],
   "source": [
    "print(\"Ojol\")"
   ]
  },
  {
   "cell_type": "code",
   "execution_count": 29,
   "metadata": {},
   "outputs": [
    {
     "name": "stdout",
     "output_type": "stream",
     "text": [
      "Bayar ojol\n"
     ]
    }
   ],
   "source": [
    "#ada ojol untuk pulang\n",
    "\n",
    "print(\"Bayar ojol\")"
   ]
  },
  {
   "cell_type": "code",
   "execution_count": 30,
   "metadata": {
    "scrolled": true
   },
   "outputs": [
    {
     "name": "stdout",
     "output_type": "stream",
     "text": [
      "Ambil sepeda di tempat parkir\n"
     ]
    }
   ],
   "source": [
    "#tidak ada ojol untuk pulang \n",
    "\n",
    "print(\"Ambil sepeda di tempat parkir\")"
   ]
  },
  {
   "cell_type": "code",
   "execution_count": 31,
   "metadata": {},
   "outputs": [
    {
     "name": "stdout",
     "output_type": "stream",
     "text": [
      "Pulang ke rumah\n"
     ]
    }
   ],
   "source": [
    "#lanjutan ada dan tidaknya ojol untuk pulang \n",
    "\n",
    "print(\"Pulang ke rumah\")"
   ]
  },
  {
   "cell_type": "code",
   "execution_count": 32,
   "metadata": {},
   "outputs": [
    {
     "name": "stdout",
     "output_type": "stream",
     "text": [
      "Selesai\n"
     ]
    }
   ],
   "source": [
    "print(\"Selesai\")"
   ]
  },
  {
   "cell_type": "code",
   "execution_count": null,
   "metadata": {},
   "outputs": [],
   "source": []
  }
 ],
 "metadata": {
  "kernelspec": {
   "display_name": "Python 3",
   "language": "python",
   "name": "python3"
  },
  "language_info": {
   "codemirror_mode": {
    "name": "ipython",
    "version": 3
   },
   "file_extension": ".py",
   "mimetype": "text/x-python",
   "name": "python",
   "nbconvert_exporter": "python",
   "pygments_lexer": "ipython3",
   "version": "3.8.3"
  }
 },
 "nbformat": 4,
 "nbformat_minor": 4
}
