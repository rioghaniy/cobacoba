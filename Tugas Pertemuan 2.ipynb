{
 "cells": [
  {
   "cell_type": "markdown",
   "metadata": {},
   "source": [
    "# Pertemuan 2 : Rabu, 14 Oktober 2020"
   ]
  },
  {
   "cell_type": "code",
   "execution_count": 1,
   "metadata": {},
   "outputs": [
    {
     "name": "stdout",
     "output_type": "stream",
     "text": [
      "Hello World\n"
     ]
    }
   ],
   "source": [
    "print (\"Hello World\")"
   ]
  },
  {
   "cell_type": "code",
   "execution_count": 2,
   "metadata": {},
   "outputs": [
    {
     "name": "stdout",
     "output_type": "stream",
     "text": [
      "Hai Purwokerto\n",
      "Saya Belajar Python\n",
      "Menggunakan Jupyter Notebook\n",
      "Ok\n",
      "diberi kutip 'dong'... \n"
     ]
    }
   ],
   "source": [
    "print(\"Hai Purwokerto\")\n",
    "print(\"Saya Belajar Python\")\n",
    "print(\"Menggunakan Jupyter Notebook\")\n",
    "print(\"Ok\")\n",
    "print(\"diberi kutip 'dong'... \")"
   ]
  },
  {
   "cell_type": "code",
   "execution_count": 3,
   "metadata": {},
   "outputs": [
    {
     "name": "stdout",
     "output_type": "stream",
     "text": [
      "Ini bukan komentar\n"
     ]
    }
   ],
   "source": [
    "# ini komentar \n",
    "print(\"Ini bukan komentar\")"
   ]
  },
  {
   "cell_type": "markdown",
   "metadata": {},
   "source": [
    "# Operator "
   ]
  },
  {
   "cell_type": "code",
   "execution_count": 4,
   "metadata": {},
   "outputs": [
    {
     "name": "stdout",
     "output_type": "stream",
     "text": [
      "5\n"
     ]
    }
   ],
   "source": [
    "a = 2\n",
    "b = 3\n",
    "c = a + b\n",
    "print(int(c))"
   ]
  },
  {
   "cell_type": "code",
   "execution_count": 5,
   "metadata": {},
   "outputs": [
    {
     "name": "stdout",
     "output_type": "stream",
     "text": [
      "5\n"
     ]
    }
   ],
   "source": [
    "a = 2\n",
    "b = 3\n",
    "c = a + b\n",
    "print(c)"
   ]
  },
  {
   "cell_type": "code",
   "execution_count": 6,
   "metadata": {},
   "outputs": [],
   "source": [
    "a = 15\n",
    "b = 3\n",
    "\n",
    "c = a + b \n",
    "d = a - b \n",
    "e = a * b \n",
    "f = a / b \n",
    "g = a % b\n",
    "h = a < b\n",
    "i = a > b\n",
    "j = a <= b \n",
    "k = a >= b "
   ]
  },
  {
   "cell_type": "code",
   "execution_count": 7,
   "metadata": {},
   "outputs": [
    {
     "name": "stdout",
     "output_type": "stream",
     "text": [
      "Hasil dari c adalah : 18\n",
      "Hasil dari d adalah : 12\n",
      "Hasil dari e adalah : 45\n",
      "Hasil dari f adalah : 5.0\n",
      "Hasil dari g adalah : 0\n",
      "Hasil dari h adalah : False\n",
      "Hasil dari i adalah : True\n",
      "Hasil dari j adalah : False\n",
      "Hasil dari k adalah : True\n"
     ]
    }
   ],
   "source": [
    "print(\"Hasil dari c adalah :\", c)\n",
    "print(\"Hasil dari d adalah :\", d)\n",
    "print(\"Hasil dari e adalah :\", e)\n",
    "print(\"Hasil dari f adalah :\", f)\n",
    "print(\"Hasil dari g adalah :\", g)\n",
    "print(\"Hasil dari h adalah :\", h)\n",
    "print(\"Hasil dari i adalah :\", i)\n",
    "print(\"Hasil dari j adalah :\", j)\n",
    "print(\"Hasil dari k adalah :\", k)"
   ]
  },
  {
   "cell_type": "markdown",
   "metadata": {},
   "source": [
    "# Input"
   ]
  },
  {
   "cell_type": "code",
   "execution_count": 8,
   "metadata": {},
   "outputs": [
    {
     "name": "stdout",
     "output_type": "stream",
     "text": [
      "Masukkan Nama : Rio\n",
      "Rio\n"
     ]
    }
   ],
   "source": [
    "variable_nama = input(\"Masukkan Nama : \")\n",
    "print(variable_nama)"
   ]
  },
  {
   "cell_type": "code",
   "execution_count": 9,
   "metadata": {},
   "outputs": [
    {
     "name": "stdout",
     "output_type": "stream",
     "text": [
      "Inputkan nilai1 : 15\n",
      "inputkan nilai2 : 3\n",
      "hasil tambah :  18\n"
     ]
    }
   ],
   "source": [
    "# Operasi Penambahan\n",
    "\n",
    "nilai1 = int(input(\"Inputkan nilai1 : \"))\n",
    "nilai2 = int(input(\"inputkan nilai2 : \"))\n",
    "\n",
    "hasiltambah = nilai1 + nilai2\n",
    "\n",
    "print (\"hasil tambah : \", hasiltambah)"
   ]
  },
  {
   "cell_type": "code",
   "execution_count": 10,
   "metadata": {},
   "outputs": [
    {
     "name": "stdout",
     "output_type": "stream",
     "text": [
      "Inputkan nilai1 : 15\n",
      "inputkan nilai2 : 3\n",
      "hasil pengurangan :  12\n"
     ]
    }
   ],
   "source": [
    "#Operasi Pengurangan \n",
    "\n",
    "nilai1 = int(input(\"Inputkan nilai1 : \"))\n",
    "nilai2 = int(input(\"inputkan nilai2 : \"))\n",
    "\n",
    "hasilpengurangan = nilai1 - nilai2\n",
    "\n",
    "print (\"hasil pengurangan : \", hasilpengurangan)"
   ]
  },
  {
   "cell_type": "code",
   "execution_count": 11,
   "metadata": {},
   "outputs": [
    {
     "name": "stdout",
     "output_type": "stream",
     "text": [
      "Inputkan nilai1 : 15\n",
      "inputkan nilai2 : 3\n",
      "hasil pembagian :  5.0\n"
     ]
    }
   ],
   "source": [
    "#Operasi Pembagian \n",
    "\n",
    "nilai1 = int(input(\"Inputkan nilai1 : \"))\n",
    "nilai2 = int(input(\"inputkan nilai2 : \"))\n",
    "\n",
    "hasilpembagian = nilai1 / nilai2\n",
    "\n",
    "print (\"hasil pembagian : \", hasilpembagian)"
   ]
  },
  {
   "cell_type": "code",
   "execution_count": 12,
   "metadata": {},
   "outputs": [
    {
     "name": "stdout",
     "output_type": "stream",
     "text": [
      "Inputkan nilai1 : 15\n",
      "inputkan nilai2 : 3\n",
      "hasil perkalian :  45\n"
     ]
    }
   ],
   "source": [
    "#Operasi Perkalian\n",
    "\n",
    "nilai1 = int(input(\"Inputkan nilai1 : \"))\n",
    "nilai2 = int(input(\"inputkan nilai2 : \"))\n",
    "\n",
    "hasilperkalian = nilai1 * nilai2\n",
    "\n",
    "print (\"hasil perkalian : \", hasilperkalian)"
   ]
  },
  {
   "cell_type": "code",
   "execution_count": 13,
   "metadata": {},
   "outputs": [
    {
     "name": "stdout",
     "output_type": "stream",
     "text": [
      "Inputkan nilai1 : 15\n",
      "inputkan nilai2 : 3\n",
      "hasil sisa:  0\n"
     ]
    }
   ],
   "source": [
    "#Operasi Modulus\n",
    "\n",
    "nilai1 = int(input(\"Inputkan nilai1 : \"))\n",
    "nilai2 = int(input(\"inputkan nilai2 : \"))\n",
    "\n",
    "hasilsisa = nilai1 % nilai2\n",
    "\n",
    "print (\"hasil sisa: \", hasilsisa)\n"
   ]
  },
  {
   "cell_type": "code",
   "execution_count": 14,
   "metadata": {},
   "outputs": [
    {
     "name": "stdout",
     "output_type": "stream",
     "text": [
      "Inputkan nilai1 : 15\n",
      "inputkan nilai2 : 3\n",
      "hasil :  False\n"
     ]
    }
   ],
   "source": [
    "#Operasi < (kurang dari)\n",
    "\n",
    "nilai1 = int(input(\"Inputkan nilai1 : \"))\n",
    "nilai2 = int(input(\"inputkan nilai2 : \"))\n",
    "\n",
    "hasilboolean1 = nilai1 < nilai2\n",
    "\n",
    "print (\"hasil : \", hasilboolean1)"
   ]
  },
  {
   "cell_type": "code",
   "execution_count": 15,
   "metadata": {},
   "outputs": [
    {
     "name": "stdout",
     "output_type": "stream",
     "text": [
      "Inputkan nilai1 : 15\n",
      "inputkan nilai2 : 3\n",
      "hasil :  True\n"
     ]
    }
   ],
   "source": [
    "#Operasi > (lebih dari)\n",
    "\n",
    "nilai1 = int(input(\"Inputkan nilai1 : \"))\n",
    "nilai2 = int(input(\"inputkan nilai2 : \"))\n",
    "\n",
    "hasilboolean2 = nilai1 > nilai2\n",
    "\n",
    "print (\"hasil : \", hasilboolean2)"
   ]
  },
  {
   "cell_type": "code",
   "execution_count": 16,
   "metadata": {},
   "outputs": [
    {
     "name": "stdout",
     "output_type": "stream",
     "text": [
      "Inputkan nilai1 : 15\n",
      "inputkan nilai2 : 3\n",
      "hasil tambah:  False\n"
     ]
    }
   ],
   "source": [
    "#Operasi <= (kurang dari atau sama dengan)\n",
    "\n",
    "nilai1 = int(input(\"Inputkan nilai1 : \"))\n",
    "nilai2 = int(input(\"inputkan nilai2 : \"))\n",
    "\n",
    "hasilboolean3 = nilai1 <= nilai2\n",
    "\n",
    "print (\"hasil tambah: \", hasilboolean3)\n"
   ]
  },
  {
   "cell_type": "code",
   "execution_count": 17,
   "metadata": {},
   "outputs": [
    {
     "name": "stdout",
     "output_type": "stream",
     "text": [
      "Inputkan nilai1 : 15\n",
      "inputkan nilai2 : 3\n",
      "hasil tambah:  18\n"
     ]
    }
   ],
   "source": [
    "#Operasi >= (lebih dari atau sama dengan)\n",
    "\n",
    "nilai1 = int(input(\"Inputkan nilai1 : \"))\n",
    "nilai2 = int(input(\"inputkan nilai2 : \"))\n",
    "\n",
    "hasilboolean4 = nilai1 + nilai2\n",
    "\n",
    "print (\"hasil tambah: \", hasilboolean4)\n"
   ]
  }
 ],
 "metadata": {
  "kernelspec": {
   "display_name": "Python 3",
   "language": "python",
   "name": "python3"
  },
  "language_info": {
   "codemirror_mode": {
    "name": "ipython",
    "version": 3
   },
   "file_extension": ".py",
   "mimetype": "text/x-python",
   "name": "python",
   "nbconvert_exporter": "python",
   "pygments_lexer": "ipython3",
   "version": "3.8.3"
  }
 },
 "nbformat": 4,
 "nbformat_minor": 4
}
